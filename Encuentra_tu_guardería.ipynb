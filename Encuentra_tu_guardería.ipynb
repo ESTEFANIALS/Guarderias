{
  "nbformat": 4,
  "nbformat_minor": 0,
  "metadata": {
    "colab": {
      "name": "Encuentra tu guardería.ipynb",
      "provenance": [],
      "include_colab_link": true
    },
    "kernelspec": {
      "name": "python3",
      "display_name": "Python 3"
    },
    "language_info": {
      "name": "python"
    }
  },
  "cells": [
    {
      "cell_type": "markdown",
      "metadata": {
        "id": "view-in-github",
        "colab_type": "text"
      },
      "source": [
        "<a href=\"https://colab.research.google.com/github/ESTEFANIALS/Guarderias/blob/main/Encuentra_tu_guarder%C3%ADa.ipynb\" target=\"_parent\"><img src=\"https://colab.research.google.com/assets/colab-badge.svg\" alt=\"Open In Colab\"/></a>"
      ]
    },
    {
      "cell_type": "markdown",
      "source": [
        "#Encuentra tu guardería\n",
        "\n",
        "## Guarderías de la República Méxicana\n",
        "\n",
        "### Equipo: \n",
        "\n",
        "*   Ana Lilia López Claro\n",
        "*   Estefanía López Sernas"
      ],
      "metadata": {
        "id": "N20OxGK3YJ75"
      }
    },
    {
      "cell_type": "code",
      "source": [
        "# Se importan las bibliotecas\n",
        "import pandas as pd \n",
        "import numpy as np \n",
        "import seaborn as sns\n",
        "import matplotlib.pyplot as plt\n",
        "import geopy\n",
        "from geopy.geocoders import Nominatim\n",
        "from geopy.distance import vincenty\n",
        "import time\n",
        "import math\n",
        "import folium\n",
        "from folium.plugins import HeatMap"
      ],
      "metadata": {
        "id": "eKy2065BHPBH"
      },
      "execution_count": 51,
      "outputs": []
    },
    {
      "cell_type": "code",
      "source": [
        "df = pd.read_csv('https://raw.githubusercontent.com/ESTEFANIALS/Guarderias/main/base_guarderias')"
      ],
      "metadata": {
        "id": "o_qBtk2-cPG_"
      },
      "execution_count": 56,
      "outputs": []
    },
    {
      "cell_type": "code",
      "source": [
        "df['Código Postal'] = df['Código Postal'].apply(lambda _: str(_))\n",
        "informacion = []\n",
        "for n in range(len(df)):\n",
        "  informacion.append(df['Nombre de Unidad'][n] + ': ' + df['Calle'][n] + ' ' + str(df['Número Ext.'][n]) + ', Col. ' + df['Colonia'][n]  + ', Del. '+ df['Municipio'][n] + ', CP ' + str(df['Código Postal'][n]) + ' Horario: ' + df['Horario de Atención'][n] + ' Teléfono: ' + str(df['Teléfonos'][n]))\n",
        "df[\"Información guardería\"]= informacion\n",
        "\n",
        "df_CDMX = df[df['Ciudad']== \"Ciudad de México\"]\n",
        "df_CDMX =df_CDMX.dropna()\n",
        "\n",
        "geo = Nominatim(user_agent='Myapp')"
      ],
      "metadata": {
        "id": "sxzERM_kdOB0"
      },
      "execution_count": 60,
      "outputs": []
    },
    {
      "cell_type": "code",
      "source": [
        "calle = input(\"Calle:\")\n",
        "num = input(\"Numero Exterior:\")\n",
        "dele = input(\"Delegación:\")\n",
        "num_opciones = input(\"Cuántas recomendaciones quieres:\")\n",
        "\n",
        "lugar = str(calle)+ ' ' +str(num)+str(', ')+str(dele)\n",
        "posicion = 'El punto de referencia es: ' + str(lugar)\n",
        "\n",
        "loc = geo.geocode(lugar)\n",
        "print(loc)\n",
        "\n",
        "coor= (loc.latitude,loc.longitude)\n",
        "print(coor)\n",
        "\n",
        "\n",
        "def f(x):\n",
        "  return geopy.distance.distance(coor,(x[\"Latitud\"],x[\"Longitud\"]))\n",
        "\n",
        "df_CDMX['Distancia']=df_CDMX.apply(f,axis=1)\n",
        "#32df_CDMX['Distancia']=str(round(float(df_CDMX['Distancia'].split()[0]),2))\n",
        "por_km1 = df_CDMX.sort_values('Distancia')\n",
        "\n",
        "opciones1=por_km1.head(int(num_opciones))\n",
        "dist1=opciones1['Distancia'].sum()\n",
        "gasto1=dist1*20\n",
        "#print('El costo de transporte de este recorrido es: $'+ str(round(float((str(gasto1)).split()[0]),2)))\n",
        "\n",
        "seleccion1=opciones1[['Nombre de Unidad','Latitud','Longitud']]\n",
        "\n",
        "nueva_fila = {'Nombre de Unidad':lugar, 'Latitud':loc.latitude, 'Longitud':loc.longitude}\n",
        "mapa1=df_marks = seleccion1.append(nueva_fila, ignore_index=True)\n",
        "mapa1= mapa1.set_index([np.arange(1,len(mapa1)+1)])\n",
        "\n",
        "recomendadas = df_CDMX[df_CDMX['Nombre de Unidad'].isin(opciones1['Nombre de Unidad'])].sort_values('Distancia').set_index([np.arange(1,int(num_opciones)+1)])\n",
        "print(recomendadas[['Distancia', 'Nombre de Unidad', 'Calle', 'Número Ext.', 'Código Postal', 'Municipio', 'Ciudad', 'Horario de Atención', 'Teléfonos']])\n",
        "\n",
        "nueva_fila_r = {'Nombre de Unidad':lugar, 'Información guardería':posicion}\n",
        "recomendadas = recomendadas.append(nueva_fila_r, ignore_index=True)\n",
        "\n",
        "mapit1 = folium.Map(location = [19.4, -99.15], zoom_start=13)\n",
        "for i in range (0,len(mapa1)):\n",
        "  if mapa1.index[i] <= int(num_opciones):\n",
        "    folium.Marker(\n",
        "        location = [mapa1.Latitud.values[i], mapa1.Longitud.values[i]],\n",
        "        popup= recomendadas['Información guardería'][i],\n",
        "        icon=folium.Icon(color=\"green\", icon=\"info-sign\"),\n",
        "    ).add_to(mapit1)\n",
        "  else:\n",
        "    folium.Marker(\n",
        "        location = [mapa1.Latitud.values[i], mapa1.Longitud.values[i]],\n",
        "        popup= recomendadas['Información guardería'][i],\n",
        "    ).add_to(mapit1)\n",
        "\n",
        "mapit1\n",
        "\n"
      ],
      "metadata": {
        "id": "eqKDTs6dy96b",
        "colab": {
          "base_uri": "https://localhost:8080/",
          "height": 1000
        },
        "outputId": "ddc067a0-fa93-4975-eec3-f9345ebca7f6"
      },
      "execution_count": 62,
      "outputs": [
        {
          "output_type": "stream",
          "name": "stdout",
          "text": [
            "Calle:Torre BBVA\n",
            "Numero Exterior:510\n",
            "Delegación:Cuauhtemoc\n",
            "Cuántas recomendaciones quieres:10\n",
            "Torre BBVA, Avenida Reforma, Colonia Nueva Anzures, Cuauhtémoc, Ciudad de México, México\n",
            "(19.42265935, -99.17471273963955)\n",
            "                 Distancia                                   Nombre de Unidad  \\\n",
            "1   0.26656115880172687 km     M-0008 Guardería Madres IMSS G-VIII Cuauhtémoc   \n",
            "2   0.45175973043331147 km     G-0035 Guardería Ordinaria G - 0035 Cuauhtémoc   \n",
            "3    0.5491395814472948 km  G-0041 Guardería Ordinaria G - 0041 Miguel Hid...   \n",
            "4    0.5917917976337419 km                               U-0622 CENDI Hamelin   \n",
            "5    0.5957243015855473 km                             U-0624 Colegio Cibeles   \n",
            "6    1.1426568285418004 km     G-0003 Guardería Ordinaria G - 0003 Cuauhtémoc   \n",
            "7    1.2307500146785335 km                        U-0702 Colegio del Angel II   \n",
            "8    1.3312222741337787 km                           U-0704 Colegio Cibeles I   \n",
            "9    1.4820467198697111 km                                    U-0625 ASERET'S   \n",
            "10    1.717594345190926 km     M-0002 Guardería Madres Imss G - II Cuauhtémoc   \n",
            "\n",
            "              Calle Número Ext. Código Postal       Municipio  \\\n",
            "1            Toledo          29          6600      Cuauhtémoc   \n",
            "2   Avenida Sevilla          33          6600      Cuauhtémoc   \n",
            "3       Shakespeare          36         11590  Miguel Hidalgo   \n",
            "4       Víctor Hugo          33         11590  Miguel Hidalgo   \n",
            "5        Río Ganges          81          6500      Cuauhtémoc   \n",
            "6    Alvaro Obregón         217          6700      Cuauhtémoc   \n",
            "7        Río Tigris          87          6500      Cuauhtémoc   \n",
            "8    Plaza Grijalva          27          6500      Cuauhtémoc   \n",
            "9           Laplace          31         11590  Miguel Hidalgo   \n",
            "10      Villalongín         117          6500      Cuauhtémoc   \n",
            "\n",
            "              Ciudad Horario de Atención  \\\n",
            "1   Ciudad de México       07:00 - 16:30   \n",
            "2   Ciudad de México       07:00 - 16:30   \n",
            "3   Ciudad de México       07:00 - 19:00   \n",
            "4   Ciudad de México       07:00 - 17:00   \n",
            "5   Ciudad de México       07:00 - 16:00   \n",
            "6   Ciudad de México       07:00 - 20:00   \n",
            "7   Ciudad de México       07:00 - 16:30   \n",
            "8   Ciudad de México       07:00 - 16:00   \n",
            "9   Ciudad de México       07:30 - 16:30   \n",
            "10  Ciudad de México       06:30 - 21:30   \n",
            "\n",
            "                                    Teléfonos  \n",
            "1   Lada: 55 Tel: 52382700, ext. 11660  11661  \n",
            "2   Lada: 55 Tel: 52382700, ext. 41500, 11526  \n",
            "3            Lada: 55 Tel: 52038490, 52506213  \n",
            "4                      Lada: 55 Tel: 52037776  \n",
            "5                      Lada: 55 Tel: 55145904  \n",
            "6                      Lada: 55 Tel: 55147436  \n",
            "7                      Lada: 55 Tel: 55110469  \n",
            "8                      Lada: 55 Tel: 52086931  \n",
            "9                      Lada: 55 Tel: 52506427  \n",
            "10  Lada: 55 Tel: 56290200, ext, 13860, 13861  \n"
          ]
        },
        {
          "output_type": "execute_result",
          "data": {
            "text/plain": [
              "<folium.folium.Map at 0x7f3682ec8310>"
            ],
            "text/html": [
              "<div style=\"width:100%;\"><div style=\"position:relative;width:100%;height:0;padding-bottom:60%;\"><span style=\"color:#565656\">Make this Notebook Trusted to load map: File -> Trust Notebook</span><iframe src=\"about:blank\" style=\"position:absolute;width:100%;height:100%;left:0;top:0;border:none !important;\" data-html=%3C%21DOCTYPE%20html%3E%0A%3Chead%3E%20%20%20%20%0A%20%20%20%20%3Cmeta%20http-equiv%3D%22content-type%22%20content%3D%22text/html%3B%20charset%3DUTF-8%22%20/%3E%0A%20%20%20%20%3Cscript%3EL_PREFER_CANVAS%3Dfalse%3B%20L_NO_TOUCH%3Dfalse%3B%20L_DISABLE_3D%3Dfalse%3B%3C/script%3E%0A%20%20%20%20%3Cscript%20src%3D%22https%3A//cdn.jsdelivr.net/npm/leaflet%401.4.0/dist/leaflet.js%22%3E%3C/script%3E%0A%20%20%20%20%3Cscript%20src%3D%22https%3A//code.jquery.com/jquery-1.12.4.min.js%22%3E%3C/script%3E%0A%20%20%20%20%3Cscript%20src%3D%22https%3A//maxcdn.bootstrapcdn.com/bootstrap/3.2.0/js/bootstrap.min.js%22%3E%3C/script%3E%0A%20%20%20%20%3Cscript%20src%3D%22https%3A//cdnjs.cloudflare.com/ajax/libs/Leaflet.awesome-markers/2.0.2/leaflet.awesome-markers.js%22%3E%3C/script%3E%0A%20%20%20%20%3Clink%20rel%3D%22stylesheet%22%20href%3D%22https%3A//cdn.jsdelivr.net/npm/leaflet%401.4.0/dist/leaflet.css%22/%3E%0A%20%20%20%20%3Clink%20rel%3D%22stylesheet%22%20href%3D%22https%3A//maxcdn.bootstrapcdn.com/bootstrap/3.2.0/css/bootstrap.min.css%22/%3E%0A%20%20%20%20%3Clink%20rel%3D%22stylesheet%22%20href%3D%22https%3A//maxcdn.bootstrapcdn.com/bootstrap/3.2.0/css/bootstrap-theme.min.css%22/%3E%0A%20%20%20%20%3Clink%20rel%3D%22stylesheet%22%20href%3D%22https%3A//maxcdn.bootstrapcdn.com/font-awesome/4.6.3/css/font-awesome.min.css%22/%3E%0A%20%20%20%20%3Clink%20rel%3D%22stylesheet%22%20href%3D%22https%3A//cdnjs.cloudflare.com/ajax/libs/Leaflet.awesome-markers/2.0.2/leaflet.awesome-markers.css%22/%3E%0A%20%20%20%20%3Clink%20rel%3D%22stylesheet%22%20href%3D%22https%3A//rawcdn.githack.com/python-visualization/folium/master/folium/templates/leaflet.awesome.rotate.css%22/%3E%0A%20%20%20%20%3Cstyle%3Ehtml%2C%20body%20%7Bwidth%3A%20100%25%3Bheight%3A%20100%25%3Bmargin%3A%200%3Bpadding%3A%200%3B%7D%3C/style%3E%0A%20%20%20%20%3Cstyle%3E%23map%20%7Bposition%3Aabsolute%3Btop%3A0%3Bbottom%3A0%3Bright%3A0%3Bleft%3A0%3B%7D%3C/style%3E%0A%20%20%20%20%0A%20%20%20%20%3Cmeta%20name%3D%22viewport%22%20content%3D%22width%3Ddevice-width%2C%0A%20%20%20%20%20%20%20%20initial-scale%3D1.0%2C%20maximum-scale%3D1.0%2C%20user-scalable%3Dno%22%20/%3E%0A%20%20%20%20%3Cstyle%3E%23map_c616e3e373c6439baaa395e3d49f3549%20%7B%0A%20%20%20%20%20%20%20%20position%3A%20relative%3B%0A%20%20%20%20%20%20%20%20width%3A%20100.0%25%3B%0A%20%20%20%20%20%20%20%20height%3A%20100.0%25%3B%0A%20%20%20%20%20%20%20%20left%3A%200.0%25%3B%0A%20%20%20%20%20%20%20%20top%3A%200.0%25%3B%0A%20%20%20%20%20%20%20%20%7D%0A%20%20%20%20%3C/style%3E%0A%3C/head%3E%0A%3Cbody%3E%20%20%20%20%0A%20%20%20%20%0A%20%20%20%20%3Cdiv%20class%3D%22folium-map%22%20id%3D%22map_c616e3e373c6439baaa395e3d49f3549%22%20%3E%3C/div%3E%0A%3C/body%3E%0A%3Cscript%3E%20%20%20%20%0A%20%20%20%20%0A%20%20%20%20%0A%20%20%20%20%20%20%20%20var%20bounds%20%3D%20null%3B%0A%20%20%20%20%0A%0A%20%20%20%20var%20map_c616e3e373c6439baaa395e3d49f3549%20%3D%20L.map%28%0A%20%20%20%20%20%20%20%20%27map_c616e3e373c6439baaa395e3d49f3549%27%2C%20%7B%0A%20%20%20%20%20%20%20%20center%3A%20%5B19.4%2C%20-99.15%5D%2C%0A%20%20%20%20%20%20%20%20zoom%3A%2013%2C%0A%20%20%20%20%20%20%20%20maxBounds%3A%20bounds%2C%0A%20%20%20%20%20%20%20%20layers%3A%20%5B%5D%2C%0A%20%20%20%20%20%20%20%20worldCopyJump%3A%20false%2C%0A%20%20%20%20%20%20%20%20crs%3A%20L.CRS.EPSG3857%2C%0A%20%20%20%20%20%20%20%20zoomControl%3A%20true%2C%0A%20%20%20%20%20%20%20%20%7D%29%3B%0A%0A%0A%20%20%20%20%0A%20%20%20%20var%20tile_layer_146c4c64ab994d8280316c907a3f6960%20%3D%20L.tileLayer%28%0A%20%20%20%20%20%20%20%20%27https%3A//%7Bs%7D.tile.openstreetmap.org/%7Bz%7D/%7Bx%7D/%7By%7D.png%27%2C%0A%20%20%20%20%20%20%20%20%7B%0A%20%20%20%20%20%20%20%20%22attribution%22%3A%20null%2C%0A%20%20%20%20%20%20%20%20%22detectRetina%22%3A%20false%2C%0A%20%20%20%20%20%20%20%20%22maxNativeZoom%22%3A%2018%2C%0A%20%20%20%20%20%20%20%20%22maxZoom%22%3A%2018%2C%0A%20%20%20%20%20%20%20%20%22minZoom%22%3A%200%2C%0A%20%20%20%20%20%20%20%20%22noWrap%22%3A%20false%2C%0A%20%20%20%20%20%20%20%20%22opacity%22%3A%201%2C%0A%20%20%20%20%20%20%20%20%22subdomains%22%3A%20%22abc%22%2C%0A%20%20%20%20%20%20%20%20%22tms%22%3A%20false%0A%7D%29.addTo%28map_c616e3e373c6439baaa395e3d49f3549%29%3B%0A%20%20%20%20%0A%20%20%20%20%20%20%20%20var%20marker_97d3caaa4ea14b48a30a75e94c176c64%20%3D%20L.marker%28%0A%20%20%20%20%20%20%20%20%20%20%20%20%5B19.42306%2C%20-99.17221%5D%2C%0A%20%20%20%20%20%20%20%20%20%20%20%20%7B%0A%20%20%20%20%20%20%20%20%20%20%20%20%20%20%20%20icon%3A%20new%20L.Icon.Default%28%29%2C%0A%20%20%20%20%20%20%20%20%20%20%20%20%20%20%20%20%7D%0A%20%20%20%20%20%20%20%20%20%20%20%20%29.addTo%28map_c616e3e373c6439baaa395e3d49f3549%29%3B%0A%20%20%20%20%20%20%20%20%0A%20%20%20%20%0A%0A%20%20%20%20%20%20%20%20%20%20%20%20%20%20%20%20var%20icon_3f89708cfcea4e23a01d38ce3e075e36%20%3D%20L.AwesomeMarkers.icon%28%7B%0A%20%20%20%20%20%20%20%20%20%20%20%20%20%20%20%20%20%20%20%20icon%3A%20%27info-sign%27%2C%0A%20%20%20%20%20%20%20%20%20%20%20%20%20%20%20%20%20%20%20%20iconColor%3A%20%27white%27%2C%0A%20%20%20%20%20%20%20%20%20%20%20%20%20%20%20%20%20%20%20%20markerColor%3A%20%27green%27%2C%0A%20%20%20%20%20%20%20%20%20%20%20%20%20%20%20%20%20%20%20%20prefix%3A%20%27glyphicon%27%2C%0A%20%20%20%20%20%20%20%20%20%20%20%20%20%20%20%20%20%20%20%20extraClasses%3A%20%27fa-rotate-0%27%0A%20%20%20%20%20%20%20%20%20%20%20%20%20%20%20%20%20%20%20%20%7D%29%3B%0A%20%20%20%20%20%20%20%20%20%20%20%20%20%20%20%20marker_97d3caaa4ea14b48a30a75e94c176c64.setIcon%28icon_3f89708cfcea4e23a01d38ce3e075e36%29%3B%0A%20%20%20%20%20%20%20%20%20%20%20%20%0A%20%20%20%20%0A%20%20%20%20%20%20%20%20%20%20%20%20var%20popup_c550bb62a19b4adea1a8ac3b9a72a4e0%20%3D%20L.popup%28%7BmaxWidth%3A%20%27100%25%27%0A%20%20%20%20%20%20%20%20%20%20%20%20%0A%20%20%20%20%20%20%20%20%20%20%20%20%7D%29%3B%0A%0A%20%20%20%20%20%20%20%20%20%20%20%20%0A%20%20%20%20%20%20%20%20%20%20%20%20%20%20%20%20var%20html_15ef99182ccf4510af6abcee52bfcd05%20%3D%20%24%28%60%3Cdiv%20id%3D%22html_15ef99182ccf4510af6abcee52bfcd05%22%20style%3D%22width%3A%20100.0%25%3B%20height%3A%20100.0%25%3B%22%3EM-0008%20Guarder%C3%ADa%20Madres%20IMSS%20G-VIII%20Cuauht%C3%A9moc%3A%20Toledo%2029%2C%20Col.%20Ju%C3%A1rez%2C%20Del.%20Cuauht%C3%A9moc%2C%20CP%206600%20Horario%3A%2007%3A00%20-%2016%3A30%20Tel%C3%A9fono%3A%20Lada%3A%2055%20Tel%3A%2052382700%2C%20ext.%2011660%20%2011661%3C/div%3E%60%29%5B0%5D%3B%0A%20%20%20%20%20%20%20%20%20%20%20%20%20%20%20%20popup_c550bb62a19b4adea1a8ac3b9a72a4e0.setContent%28html_15ef99182ccf4510af6abcee52bfcd05%29%3B%0A%20%20%20%20%20%20%20%20%20%20%20%20%0A%0A%20%20%20%20%20%20%20%20%20%20%20%20marker_97d3caaa4ea14b48a30a75e94c176c64.bindPopup%28popup_c550bb62a19b4adea1a8ac3b9a72a4e0%29%0A%20%20%20%20%20%20%20%20%20%20%20%20%3B%0A%0A%20%20%20%20%20%20%20%20%20%20%20%20%0A%20%20%20%20%20%20%20%20%0A%20%20%20%20%0A%20%20%20%20%20%20%20%20var%20marker_e49926b22b0b4729a1399266c6d5fe14%20%3D%20L.marker%28%0A%20%20%20%20%20%20%20%20%20%20%20%20%5B19.42292%2C%20-99.17042%5D%2C%0A%20%20%20%20%20%20%20%20%20%20%20%20%7B%0A%20%20%20%20%20%20%20%20%20%20%20%20%20%20%20%20icon%3A%20new%20L.Icon.Default%28%29%2C%0A%20%20%20%20%20%20%20%20%20%20%20%20%20%20%20%20%7D%0A%20%20%20%20%20%20%20%20%20%20%20%20%29.addTo%28map_c616e3e373c6439baaa395e3d49f3549%29%3B%0A%20%20%20%20%20%20%20%20%0A%20%20%20%20%0A%0A%20%20%20%20%20%20%20%20%20%20%20%20%20%20%20%20var%20icon_d18a976477f64b2997f93cc6a32e65f7%20%3D%20L.AwesomeMarkers.icon%28%7B%0A%20%20%20%20%20%20%20%20%20%20%20%20%20%20%20%20%20%20%20%20icon%3A%20%27info-sign%27%2C%0A%20%20%20%20%20%20%20%20%20%20%20%20%20%20%20%20%20%20%20%20iconColor%3A%20%27white%27%2C%0A%20%20%20%20%20%20%20%20%20%20%20%20%20%20%20%20%20%20%20%20markerColor%3A%20%27green%27%2C%0A%20%20%20%20%20%20%20%20%20%20%20%20%20%20%20%20%20%20%20%20prefix%3A%20%27glyphicon%27%2C%0A%20%20%20%20%20%20%20%20%20%20%20%20%20%20%20%20%20%20%20%20extraClasses%3A%20%27fa-rotate-0%27%0A%20%20%20%20%20%20%20%20%20%20%20%20%20%20%20%20%20%20%20%20%7D%29%3B%0A%20%20%20%20%20%20%20%20%20%20%20%20%20%20%20%20marker_e49926b22b0b4729a1399266c6d5fe14.setIcon%28icon_d18a976477f64b2997f93cc6a32e65f7%29%3B%0A%20%20%20%20%20%20%20%20%20%20%20%20%0A%20%20%20%20%0A%20%20%20%20%20%20%20%20%20%20%20%20var%20popup_eac60617576a46099d002d156acdea17%20%3D%20L.popup%28%7BmaxWidth%3A%20%27100%25%27%0A%20%20%20%20%20%20%20%20%20%20%20%20%0A%20%20%20%20%20%20%20%20%20%20%20%20%7D%29%3B%0A%0A%20%20%20%20%20%20%20%20%20%20%20%20%0A%20%20%20%20%20%20%20%20%20%20%20%20%20%20%20%20var%20html_a9c64f7de7f741898c1ce3765d957464%20%3D%20%24%28%60%3Cdiv%20id%3D%22html_a9c64f7de7f741898c1ce3765d957464%22%20style%3D%22width%3A%20100.0%25%3B%20height%3A%20100.0%25%3B%22%3EG-0035%20Guarder%C3%ADa%20Ordinaria%20G%20-%200035%20Cuauht%C3%A9moc%3A%20Avenida%20Sevilla%2033%2C%20Col.%20Ju%C3%A1rez%2C%20Del.%20Cuauht%C3%A9moc%2C%20CP%206600%20Horario%3A%2007%3A00%20-%2016%3A30%20Tel%C3%A9fono%3A%20Lada%3A%2055%20Tel%3A%2052382700%2C%20ext.%2041500%2C%2011526%3C/div%3E%60%29%5B0%5D%3B%0A%20%20%20%20%20%20%20%20%20%20%20%20%20%20%20%20popup_eac60617576a46099d002d156acdea17.setContent%28html_a9c64f7de7f741898c1ce3765d957464%29%3B%0A%20%20%20%20%20%20%20%20%20%20%20%20%0A%0A%20%20%20%20%20%20%20%20%20%20%20%20marker_e49926b22b0b4729a1399266c6d5fe14.bindPopup%28popup_eac60617576a46099d002d156acdea17%29%0A%20%20%20%20%20%20%20%20%20%20%20%20%3B%0A%0A%20%20%20%20%20%20%20%20%20%20%20%20%0A%20%20%20%20%20%20%20%20%0A%20%20%20%20%0A%20%20%20%20%20%20%20%20var%20marker_727d150a3bde4193a982227ff6e4b29d%20%3D%20L.marker%28%0A%20%20%20%20%20%20%20%20%20%20%20%20%5B19.42724%2C%20-99.17672%5D%2C%0A%20%20%20%20%20%20%20%20%20%20%20%20%7B%0A%20%20%20%20%20%20%20%20%20%20%20%20%20%20%20%20icon%3A%20new%20L.Icon.Default%28%29%2C%0A%20%20%20%20%20%20%20%20%20%20%20%20%20%20%20%20%7D%0A%20%20%20%20%20%20%20%20%20%20%20%20%29.addTo%28map_c616e3e373c6439baaa395e3d49f3549%29%3B%0A%20%20%20%20%20%20%20%20%0A%20%20%20%20%0A%0A%20%20%20%20%20%20%20%20%20%20%20%20%20%20%20%20var%20icon_752daf6fc58c47959e9a214c0cdf435a%20%3D%20L.AwesomeMarkers.icon%28%7B%0A%20%20%20%20%20%20%20%20%20%20%20%20%20%20%20%20%20%20%20%20icon%3A%20%27info-sign%27%2C%0A%20%20%20%20%20%20%20%20%20%20%20%20%20%20%20%20%20%20%20%20iconColor%3A%20%27white%27%2C%0A%20%20%20%20%20%20%20%20%20%20%20%20%20%20%20%20%20%20%20%20markerColor%3A%20%27green%27%2C%0A%20%20%20%20%20%20%20%20%20%20%20%20%20%20%20%20%20%20%20%20prefix%3A%20%27glyphicon%27%2C%0A%20%20%20%20%20%20%20%20%20%20%20%20%20%20%20%20%20%20%20%20extraClasses%3A%20%27fa-rotate-0%27%0A%20%20%20%20%20%20%20%20%20%20%20%20%20%20%20%20%20%20%20%20%7D%29%3B%0A%20%20%20%20%20%20%20%20%20%20%20%20%20%20%20%20marker_727d150a3bde4193a982227ff6e4b29d.setIcon%28icon_752daf6fc58c47959e9a214c0cdf435a%29%3B%0A%20%20%20%20%20%20%20%20%20%20%20%20%0A%20%20%20%20%0A%20%20%20%20%20%20%20%20%20%20%20%20var%20popup_18621e284d89432394ec4d18a908ab1a%20%3D%20L.popup%28%7BmaxWidth%3A%20%27100%25%27%0A%20%20%20%20%20%20%20%20%20%20%20%20%0A%20%20%20%20%20%20%20%20%20%20%20%20%7D%29%3B%0A%0A%20%20%20%20%20%20%20%20%20%20%20%20%0A%20%20%20%20%20%20%20%20%20%20%20%20%20%20%20%20var%20html_a8e913afca0b4e3d937c393793ea343e%20%3D%20%24%28%60%3Cdiv%20id%3D%22html_a8e913afca0b4e3d937c393793ea343e%22%20style%3D%22width%3A%20100.0%25%3B%20height%3A%20100.0%25%3B%22%3EG-0041%20Guarder%C3%ADa%20Ordinaria%20G%20-%200041%20Miguel%20Hidalgo%3A%20Shakespeare%2036%2C%20Col.%20Nueva%20Anzures%2C%20Del.%20Miguel%20Hidalgo%2C%20CP%2011590%20Horario%3A%2007%3A00%20-%2019%3A00%20Tel%C3%A9fono%3A%20Lada%3A%2055%20Tel%3A%2052038490%2C%2052506213%3C/div%3E%60%29%5B0%5D%3B%0A%20%20%20%20%20%20%20%20%20%20%20%20%20%20%20%20popup_18621e284d89432394ec4d18a908ab1a.setContent%28html_a8e913afca0b4e3d937c393793ea343e%29%3B%0A%20%20%20%20%20%20%20%20%20%20%20%20%0A%0A%20%20%20%20%20%20%20%20%20%20%20%20marker_727d150a3bde4193a982227ff6e4b29d.bindPopup%28popup_18621e284d89432394ec4d18a908ab1a%29%0A%20%20%20%20%20%20%20%20%20%20%20%20%3B%0A%0A%20%20%20%20%20%20%20%20%20%20%20%20%0A%20%20%20%20%20%20%20%20%0A%20%20%20%20%0A%20%20%20%20%20%20%20%20var%20marker_5a4105964aee4d5ea9678c7929c364ce%20%3D%20L.marker%28%0A%20%20%20%20%20%20%20%20%20%20%20%20%5B19.4277%2C%20-99.17659%5D%2C%0A%20%20%20%20%20%20%20%20%20%20%20%20%7B%0A%20%20%20%20%20%20%20%20%20%20%20%20%20%20%20%20icon%3A%20new%20L.Icon.Default%28%29%2C%0A%20%20%20%20%20%20%20%20%20%20%20%20%20%20%20%20%7D%0A%20%20%20%20%20%20%20%20%20%20%20%20%29.addTo%28map_c616e3e373c6439baaa395e3d49f3549%29%3B%0A%20%20%20%20%20%20%20%20%0A%20%20%20%20%0A%0A%20%20%20%20%20%20%20%20%20%20%20%20%20%20%20%20var%20icon_fc46b1bdeae24c8eab1f32e0b8d9ca64%20%3D%20L.AwesomeMarkers.icon%28%7B%0A%20%20%20%20%20%20%20%20%20%20%20%20%20%20%20%20%20%20%20%20icon%3A%20%27info-sign%27%2C%0A%20%20%20%20%20%20%20%20%20%20%20%20%20%20%20%20%20%20%20%20iconColor%3A%20%27white%27%2C%0A%20%20%20%20%20%20%20%20%20%20%20%20%20%20%20%20%20%20%20%20markerColor%3A%20%27green%27%2C%0A%20%20%20%20%20%20%20%20%20%20%20%20%20%20%20%20%20%20%20%20prefix%3A%20%27glyphicon%27%2C%0A%20%20%20%20%20%20%20%20%20%20%20%20%20%20%20%20%20%20%20%20extraClasses%3A%20%27fa-rotate-0%27%0A%20%20%20%20%20%20%20%20%20%20%20%20%20%20%20%20%20%20%20%20%7D%29%3B%0A%20%20%20%20%20%20%20%20%20%20%20%20%20%20%20%20marker_5a4105964aee4d5ea9678c7929c364ce.setIcon%28icon_fc46b1bdeae24c8eab1f32e0b8d9ca64%29%3B%0A%20%20%20%20%20%20%20%20%20%20%20%20%0A%20%20%20%20%0A%20%20%20%20%20%20%20%20%20%20%20%20var%20popup_537366b8374c4ea6a202c794db5dcd6d%20%3D%20L.popup%28%7BmaxWidth%3A%20%27100%25%27%0A%20%20%20%20%20%20%20%20%20%20%20%20%0A%20%20%20%20%20%20%20%20%20%20%20%20%7D%29%3B%0A%0A%20%20%20%20%20%20%20%20%20%20%20%20%0A%20%20%20%20%20%20%20%20%20%20%20%20%20%20%20%20var%20html_fae54f0fe035403d86494c6f5901c2a5%20%3D%20%24%28%60%3Cdiv%20id%3D%22html_fae54f0fe035403d86494c6f5901c2a5%22%20style%3D%22width%3A%20100.0%25%3B%20height%3A%20100.0%25%3B%22%3EU-0622%20CENDI%20Hamelin%3A%20V%C3%ADctor%20Hugo%2033%2C%20Col.%20Anzures%2C%20Del.%20Miguel%20Hidalgo%2C%20CP%2011590%20Horario%3A%2007%3A00%20-%2017%3A00%20Tel%C3%A9fono%3A%20Lada%3A%2055%20Tel%3A%2052037776%3C/div%3E%60%29%5B0%5D%3B%0A%20%20%20%20%20%20%20%20%20%20%20%20%20%20%20%20popup_537366b8374c4ea6a202c794db5dcd6d.setContent%28html_fae54f0fe035403d86494c6f5901c2a5%29%3B%0A%20%20%20%20%20%20%20%20%20%20%20%20%0A%0A%20%20%20%20%20%20%20%20%20%20%20%20marker_5a4105964aee4d5ea9678c7929c364ce.bindPopup%28popup_537366b8374c4ea6a202c794db5dcd6d%29%0A%20%20%20%20%20%20%20%20%20%20%20%20%3B%0A%0A%20%20%20%20%20%20%20%20%20%20%20%20%0A%20%20%20%20%20%20%20%20%0A%20%20%20%20%0A%20%20%20%20%20%20%20%20var%20marker_cb8c751bcc304d6f974f22f346a7fe60%20%3D%20L.marker%28%0A%20%20%20%20%20%20%20%20%20%20%20%20%5B19.42737%2C%20-99.17197%5D%2C%0A%20%20%20%20%20%20%20%20%20%20%20%20%7B%0A%20%20%20%20%20%20%20%20%20%20%20%20%20%20%20%20icon%3A%20new%20L.Icon.Default%28%29%2C%0A%20%20%20%20%20%20%20%20%20%20%20%20%20%20%20%20%7D%0A%20%20%20%20%20%20%20%20%20%20%20%20%29.addTo%28map_c616e3e373c6439baaa395e3d49f3549%29%3B%0A%20%20%20%20%20%20%20%20%0A%20%20%20%20%0A%0A%20%20%20%20%20%20%20%20%20%20%20%20%20%20%20%20var%20icon_d601cbc629084ea3bce00431dfe95676%20%3D%20L.AwesomeMarkers.icon%28%7B%0A%20%20%20%20%20%20%20%20%20%20%20%20%20%20%20%20%20%20%20%20icon%3A%20%27info-sign%27%2C%0A%20%20%20%20%20%20%20%20%20%20%20%20%20%20%20%20%20%20%20%20iconColor%3A%20%27white%27%2C%0A%20%20%20%20%20%20%20%20%20%20%20%20%20%20%20%20%20%20%20%20markerColor%3A%20%27green%27%2C%0A%20%20%20%20%20%20%20%20%20%20%20%20%20%20%20%20%20%20%20%20prefix%3A%20%27glyphicon%27%2C%0A%20%20%20%20%20%20%20%20%20%20%20%20%20%20%20%20%20%20%20%20extraClasses%3A%20%27fa-rotate-0%27%0A%20%20%20%20%20%20%20%20%20%20%20%20%20%20%20%20%20%20%20%20%7D%29%3B%0A%20%20%20%20%20%20%20%20%20%20%20%20%20%20%20%20marker_cb8c751bcc304d6f974f22f346a7fe60.setIcon%28icon_d601cbc629084ea3bce00431dfe95676%29%3B%0A%20%20%20%20%20%20%20%20%20%20%20%20%0A%20%20%20%20%0A%20%20%20%20%20%20%20%20%20%20%20%20var%20popup_19adf355de5642e38c698c8fb091e267%20%3D%20L.popup%28%7BmaxWidth%3A%20%27100%25%27%0A%20%20%20%20%20%20%20%20%20%20%20%20%0A%20%20%20%20%20%20%20%20%20%20%20%20%7D%29%3B%0A%0A%20%20%20%20%20%20%20%20%20%20%20%20%0A%20%20%20%20%20%20%20%20%20%20%20%20%20%20%20%20var%20html_bce70ab4091645ee898e444cd3e46d8b%20%3D%20%24%28%60%3Cdiv%20id%3D%22html_bce70ab4091645ee898e444cd3e46d8b%22%20style%3D%22width%3A%20100.0%25%3B%20height%3A%20100.0%25%3B%22%3EU-0624%20Colegio%20Cibeles%3A%20R%C3%ADo%20Ganges%2081%2C%20Col.%20Cuauht%C3%A9moc%2C%20Del.%20Cuauht%C3%A9moc%2C%20CP%206500%20Horario%3A%2007%3A00%20-%2016%3A00%20Tel%C3%A9fono%3A%20Lada%3A%2055%20Tel%3A%2055145904%3C/div%3E%60%29%5B0%5D%3B%0A%20%20%20%20%20%20%20%20%20%20%20%20%20%20%20%20popup_19adf355de5642e38c698c8fb091e267.setContent%28html_bce70ab4091645ee898e444cd3e46d8b%29%3B%0A%20%20%20%20%20%20%20%20%20%20%20%20%0A%0A%20%20%20%20%20%20%20%20%20%20%20%20marker_cb8c751bcc304d6f974f22f346a7fe60.bindPopup%28popup_19adf355de5642e38c698c8fb091e267%29%0A%20%20%20%20%20%20%20%20%20%20%20%20%3B%0A%0A%20%20%20%20%20%20%20%20%20%20%20%20%0A%20%20%20%20%20%20%20%20%0A%20%20%20%20%0A%20%20%20%20%20%20%20%20var%20marker_d1a2d78b5cd8488cbc92f44f7d5ac795%20%3D%20L.marker%28%0A%20%20%20%20%20%20%20%20%20%20%20%20%5B19.41745%2C%20-99.16532%5D%2C%0A%20%20%20%20%20%20%20%20%20%20%20%20%7B%0A%20%20%20%20%20%20%20%20%20%20%20%20%20%20%20%20icon%3A%20new%20L.Icon.Default%28%29%2C%0A%20%20%20%20%20%20%20%20%20%20%20%20%20%20%20%20%7D%0A%20%20%20%20%20%20%20%20%20%20%20%20%29.addTo%28map_c616e3e373c6439baaa395e3d49f3549%29%3B%0A%20%20%20%20%20%20%20%20%0A%20%20%20%20%0A%0A%20%20%20%20%20%20%20%20%20%20%20%20%20%20%20%20var%20icon_7220d0ffe1ff4f8c9e565bb6b5659c54%20%3D%20L.AwesomeMarkers.icon%28%7B%0A%20%20%20%20%20%20%20%20%20%20%20%20%20%20%20%20%20%20%20%20icon%3A%20%27info-sign%27%2C%0A%20%20%20%20%20%20%20%20%20%20%20%20%20%20%20%20%20%20%20%20iconColor%3A%20%27white%27%2C%0A%20%20%20%20%20%20%20%20%20%20%20%20%20%20%20%20%20%20%20%20markerColor%3A%20%27green%27%2C%0A%20%20%20%20%20%20%20%20%20%20%20%20%20%20%20%20%20%20%20%20prefix%3A%20%27glyphicon%27%2C%0A%20%20%20%20%20%20%20%20%20%20%20%20%20%20%20%20%20%20%20%20extraClasses%3A%20%27fa-rotate-0%27%0A%20%20%20%20%20%20%20%20%20%20%20%20%20%20%20%20%20%20%20%20%7D%29%3B%0A%20%20%20%20%20%20%20%20%20%20%20%20%20%20%20%20marker_d1a2d78b5cd8488cbc92f44f7d5ac795.setIcon%28icon_7220d0ffe1ff4f8c9e565bb6b5659c54%29%3B%0A%20%20%20%20%20%20%20%20%20%20%20%20%0A%20%20%20%20%0A%20%20%20%20%20%20%20%20%20%20%20%20var%20popup_6d14bbe4cbd1432bb83237568d0a2673%20%3D%20L.popup%28%7BmaxWidth%3A%20%27100%25%27%0A%20%20%20%20%20%20%20%20%20%20%20%20%0A%20%20%20%20%20%20%20%20%20%20%20%20%7D%29%3B%0A%0A%20%20%20%20%20%20%20%20%20%20%20%20%0A%20%20%20%20%20%20%20%20%20%20%20%20%20%20%20%20var%20html_e56dfaafe38940f1928362efd396052d%20%3D%20%24%28%60%3Cdiv%20id%3D%22html_e56dfaafe38940f1928362efd396052d%22%20style%3D%22width%3A%20100.0%25%3B%20height%3A%20100.0%25%3B%22%3EG-0003%20Guarder%C3%ADa%20Ordinaria%20G%20-%200003%20Cuauht%C3%A9moc%3A%20Alvaro%20Obreg%C3%B3n%20217%2C%20Col.%20Roma%2C%20Del.%20Cuauht%C3%A9moc%2C%20CP%206700%20Horario%3A%2007%3A00%20-%2020%3A00%20Tel%C3%A9fono%3A%20Lada%3A%2055%20Tel%3A%2055147436%3C/div%3E%60%29%5B0%5D%3B%0A%20%20%20%20%20%20%20%20%20%20%20%20%20%20%20%20popup_6d14bbe4cbd1432bb83237568d0a2673.setContent%28html_e56dfaafe38940f1928362efd396052d%29%3B%0A%20%20%20%20%20%20%20%20%20%20%20%20%0A%0A%20%20%20%20%20%20%20%20%20%20%20%20marker_d1a2d78b5cd8488cbc92f44f7d5ac795.bindPopup%28popup_6d14bbe4cbd1432bb83237568d0a2673%29%0A%20%20%20%20%20%20%20%20%20%20%20%20%3B%0A%0A%20%20%20%20%20%20%20%20%20%20%20%20%0A%20%20%20%20%20%20%20%20%0A%20%20%20%20%0A%20%20%20%20%20%20%20%20var%20marker_8834c0c9810346658e7c2331d985d926%20%3D%20L.marker%28%0A%20%20%20%20%20%20%20%20%20%20%20%20%5B19.43151%2C%20-99.16762%5D%2C%0A%20%20%20%20%20%20%20%20%20%20%20%20%7B%0A%20%20%20%20%20%20%20%20%20%20%20%20%20%20%20%20icon%3A%20new%20L.Icon.Default%28%29%2C%0A%20%20%20%20%20%20%20%20%20%20%20%20%20%20%20%20%7D%0A%20%20%20%20%20%20%20%20%20%20%20%20%29.addTo%28map_c616e3e373c6439baaa395e3d49f3549%29%3B%0A%20%20%20%20%20%20%20%20%0A%20%20%20%20%0A%0A%20%20%20%20%20%20%20%20%20%20%20%20%20%20%20%20var%20icon_914ea90985254902ac30970bd41f1e94%20%3D%20L.AwesomeMarkers.icon%28%7B%0A%20%20%20%20%20%20%20%20%20%20%20%20%20%20%20%20%20%20%20%20icon%3A%20%27info-sign%27%2C%0A%20%20%20%20%20%20%20%20%20%20%20%20%20%20%20%20%20%20%20%20iconColor%3A%20%27white%27%2C%0A%20%20%20%20%20%20%20%20%20%20%20%20%20%20%20%20%20%20%20%20markerColor%3A%20%27green%27%2C%0A%20%20%20%20%20%20%20%20%20%20%20%20%20%20%20%20%20%20%20%20prefix%3A%20%27glyphicon%27%2C%0A%20%20%20%20%20%20%20%20%20%20%20%20%20%20%20%20%20%20%20%20extraClasses%3A%20%27fa-rotate-0%27%0A%20%20%20%20%20%20%20%20%20%20%20%20%20%20%20%20%20%20%20%20%7D%29%3B%0A%20%20%20%20%20%20%20%20%20%20%20%20%20%20%20%20marker_8834c0c9810346658e7c2331d985d926.setIcon%28icon_914ea90985254902ac30970bd41f1e94%29%3B%0A%20%20%20%20%20%20%20%20%20%20%20%20%0A%20%20%20%20%0A%20%20%20%20%20%20%20%20%20%20%20%20var%20popup_9bed208fbb944c208eaf8c7405f20ba4%20%3D%20L.popup%28%7BmaxWidth%3A%20%27100%25%27%0A%20%20%20%20%20%20%20%20%20%20%20%20%0A%20%20%20%20%20%20%20%20%20%20%20%20%7D%29%3B%0A%0A%20%20%20%20%20%20%20%20%20%20%20%20%0A%20%20%20%20%20%20%20%20%20%20%20%20%20%20%20%20var%20html_87d931ad36bd45c68f273f2d1e32ebf3%20%3D%20%24%28%60%3Cdiv%20id%3D%22html_87d931ad36bd45c68f273f2d1e32ebf3%22%20style%3D%22width%3A%20100.0%25%3B%20height%3A%20100.0%25%3B%22%3EU-0702%20Colegio%20del%20Angel%20II%3A%20R%C3%ADo%20Tigris%2087%2C%20Col.%20Cuauht%C3%A9moc%2C%20Del.%20Cuauht%C3%A9moc%2C%20CP%206500%20Horario%3A%2007%3A00%20-%2016%3A30%20Tel%C3%A9fono%3A%20Lada%3A%2055%20Tel%3A%2055110469%3C/div%3E%60%29%5B0%5D%3B%0A%20%20%20%20%20%20%20%20%20%20%20%20%20%20%20%20popup_9bed208fbb944c208eaf8c7405f20ba4.setContent%28html_87d931ad36bd45c68f273f2d1e32ebf3%29%3B%0A%20%20%20%20%20%20%20%20%20%20%20%20%0A%0A%20%20%20%20%20%20%20%20%20%20%20%20marker_8834c0c9810346658e7c2331d985d926.bindPopup%28popup_9bed208fbb944c208eaf8c7405f20ba4%29%0A%20%20%20%20%20%20%20%20%20%20%20%20%3B%0A%0A%20%20%20%20%20%20%20%20%20%20%20%20%0A%20%20%20%20%20%20%20%20%0A%20%20%20%20%0A%20%20%20%20%20%20%20%20var%20marker_c4280447bec749b69a89516c12c45af7%20%3D%20L.marker%28%0A%20%20%20%20%20%20%20%20%20%20%20%20%5B19.43389%2C%20-99.17018%5D%2C%0A%20%20%20%20%20%20%20%20%20%20%20%20%7B%0A%20%20%20%20%20%20%20%20%20%20%20%20%20%20%20%20icon%3A%20new%20L.Icon.Default%28%29%2C%0A%20%20%20%20%20%20%20%20%20%20%20%20%20%20%20%20%7D%0A%20%20%20%20%20%20%20%20%20%20%20%20%29.addTo%28map_c616e3e373c6439baaa395e3d49f3549%29%3B%0A%20%20%20%20%20%20%20%20%0A%20%20%20%20%0A%0A%20%20%20%20%20%20%20%20%20%20%20%20%20%20%20%20var%20icon_31e21c4a0d4541c9a00eb9d805c80f32%20%3D%20L.AwesomeMarkers.icon%28%7B%0A%20%20%20%20%20%20%20%20%20%20%20%20%20%20%20%20%20%20%20%20icon%3A%20%27info-sign%27%2C%0A%20%20%20%20%20%20%20%20%20%20%20%20%20%20%20%20%20%20%20%20iconColor%3A%20%27white%27%2C%0A%20%20%20%20%20%20%20%20%20%20%20%20%20%20%20%20%20%20%20%20markerColor%3A%20%27green%27%2C%0A%20%20%20%20%20%20%20%20%20%20%20%20%20%20%20%20%20%20%20%20prefix%3A%20%27glyphicon%27%2C%0A%20%20%20%20%20%20%20%20%20%20%20%20%20%20%20%20%20%20%20%20extraClasses%3A%20%27fa-rotate-0%27%0A%20%20%20%20%20%20%20%20%20%20%20%20%20%20%20%20%20%20%20%20%7D%29%3B%0A%20%20%20%20%20%20%20%20%20%20%20%20%20%20%20%20marker_c4280447bec749b69a89516c12c45af7.setIcon%28icon_31e21c4a0d4541c9a00eb9d805c80f32%29%3B%0A%20%20%20%20%20%20%20%20%20%20%20%20%0A%20%20%20%20%0A%20%20%20%20%20%20%20%20%20%20%20%20var%20popup_b6fcdff169244cd6b8e35a33b805294d%20%3D%20L.popup%28%7BmaxWidth%3A%20%27100%25%27%0A%20%20%20%20%20%20%20%20%20%20%20%20%0A%20%20%20%20%20%20%20%20%20%20%20%20%7D%29%3B%0A%0A%20%20%20%20%20%20%20%20%20%20%20%20%0A%20%20%20%20%20%20%20%20%20%20%20%20%20%20%20%20var%20html_b9c4fcbe6a5248f4813af532e25f583b%20%3D%20%24%28%60%3Cdiv%20id%3D%22html_b9c4fcbe6a5248f4813af532e25f583b%22%20style%3D%22width%3A%20100.0%25%3B%20height%3A%20100.0%25%3B%22%3EU-0704%20Colegio%20Cibeles%20I%3A%20Plaza%20Grijalva%2027%2C%20Col.%20Cuauht%C3%A9moc%2C%20Del.%20Cuauht%C3%A9moc%2C%20CP%206500%20Horario%3A%2007%3A00%20-%2016%3A00%20Tel%C3%A9fono%3A%20Lada%3A%2055%20Tel%3A%2052086931%3C/div%3E%60%29%5B0%5D%3B%0A%20%20%20%20%20%20%20%20%20%20%20%20%20%20%20%20popup_b6fcdff169244cd6b8e35a33b805294d.setContent%28html_b9c4fcbe6a5248f4813af532e25f583b%29%3B%0A%20%20%20%20%20%20%20%20%20%20%20%20%0A%0A%20%20%20%20%20%20%20%20%20%20%20%20marker_c4280447bec749b69a89516c12c45af7.bindPopup%28popup_b6fcdff169244cd6b8e35a33b805294d%29%0A%20%20%20%20%20%20%20%20%20%20%20%20%3B%0A%0A%20%20%20%20%20%20%20%20%20%20%20%20%0A%20%20%20%20%20%20%20%20%0A%20%20%20%20%0A%20%20%20%20%20%20%20%20var%20marker_c9a1223f9cc24349a55039d4cd32aa05%20%3D%20L.marker%28%0A%20%20%20%20%20%20%20%20%20%20%20%20%5B19.43534%2C%20-99.17924%5D%2C%0A%20%20%20%20%20%20%20%20%20%20%20%20%7B%0A%20%20%20%20%20%20%20%20%20%20%20%20%20%20%20%20icon%3A%20new%20L.Icon.Default%28%29%2C%0A%20%20%20%20%20%20%20%20%20%20%20%20%20%20%20%20%7D%0A%20%20%20%20%20%20%20%20%20%20%20%20%29.addTo%28map_c616e3e373c6439baaa395e3d49f3549%29%3B%0A%20%20%20%20%20%20%20%20%0A%20%20%20%20%0A%0A%20%20%20%20%20%20%20%20%20%20%20%20%20%20%20%20var%20icon_718af78ba44c4c4e84ab3b83e74392c0%20%3D%20L.AwesomeMarkers.icon%28%7B%0A%20%20%20%20%20%20%20%20%20%20%20%20%20%20%20%20%20%20%20%20icon%3A%20%27info-sign%27%2C%0A%20%20%20%20%20%20%20%20%20%20%20%20%20%20%20%20%20%20%20%20iconColor%3A%20%27white%27%2C%0A%20%20%20%20%20%20%20%20%20%20%20%20%20%20%20%20%20%20%20%20markerColor%3A%20%27green%27%2C%0A%20%20%20%20%20%20%20%20%20%20%20%20%20%20%20%20%20%20%20%20prefix%3A%20%27glyphicon%27%2C%0A%20%20%20%20%20%20%20%20%20%20%20%20%20%20%20%20%20%20%20%20extraClasses%3A%20%27fa-rotate-0%27%0A%20%20%20%20%20%20%20%20%20%20%20%20%20%20%20%20%20%20%20%20%7D%29%3B%0A%20%20%20%20%20%20%20%20%20%20%20%20%20%20%20%20marker_c9a1223f9cc24349a55039d4cd32aa05.setIcon%28icon_718af78ba44c4c4e84ab3b83e74392c0%29%3B%0A%20%20%20%20%20%20%20%20%20%20%20%20%0A%20%20%20%20%0A%20%20%20%20%20%20%20%20%20%20%20%20var%20popup_2eb288b40d6c407fb29ca3f310188852%20%3D%20L.popup%28%7BmaxWidth%3A%20%27100%25%27%0A%20%20%20%20%20%20%20%20%20%20%20%20%0A%20%20%20%20%20%20%20%20%20%20%20%20%7D%29%3B%0A%0A%20%20%20%20%20%20%20%20%20%20%20%20%0A%20%20%20%20%20%20%20%20%20%20%20%20%20%20%20%20var%20html_94a2fac721744b1ab16b2c38d7323b2a%20%3D%20%24%28%60%3Cdiv%20id%3D%22html_94a2fac721744b1ab16b2c38d7323b2a%22%20style%3D%22width%3A%20100.0%25%3B%20height%3A%20100.0%25%3B%22%3EU-0625%20ASERET%27S%3A%20Laplace%2031%2C%20Col.%20Anzures%2C%20Del.%20Miguel%20Hidalgo%2C%20CP%2011590%20Horario%3A%2007%3A30%20-%2016%3A30%20Tel%C3%A9fono%3A%20Lada%3A%2055%20Tel%3A%2052506427%3C/div%3E%60%29%5B0%5D%3B%0A%20%20%20%20%20%20%20%20%20%20%20%20%20%20%20%20popup_2eb288b40d6c407fb29ca3f310188852.setContent%28html_94a2fac721744b1ab16b2c38d7323b2a%29%3B%0A%20%20%20%20%20%20%20%20%20%20%20%20%0A%0A%20%20%20%20%20%20%20%20%20%20%20%20marker_c9a1223f9cc24349a55039d4cd32aa05.bindPopup%28popup_2eb288b40d6c407fb29ca3f310188852%29%0A%20%20%20%20%20%20%20%20%20%20%20%20%3B%0A%0A%20%20%20%20%20%20%20%20%20%20%20%20%0A%20%20%20%20%20%20%20%20%0A%20%20%20%20%0A%20%20%20%20%20%20%20%20var%20marker_876ad1be68ed48ac8248dfdc7e2dd2cc%20%3D%20L.marker%28%0A%20%20%20%20%20%20%20%20%20%20%20%20%5B19.43368%2C%20-99.1632%5D%2C%0A%20%20%20%20%20%20%20%20%20%20%20%20%7B%0A%20%20%20%20%20%20%20%20%20%20%20%20%20%20%20%20icon%3A%20new%20L.Icon.Default%28%29%2C%0A%20%20%20%20%20%20%20%20%20%20%20%20%20%20%20%20%7D%0A%20%20%20%20%20%20%20%20%20%20%20%20%29.addTo%28map_c616e3e373c6439baaa395e3d49f3549%29%3B%0A%20%20%20%20%20%20%20%20%0A%20%20%20%20%0A%0A%20%20%20%20%20%20%20%20%20%20%20%20%20%20%20%20var%20icon_d56a5e5cd0044d3f81694631c3f723cb%20%3D%20L.AwesomeMarkers.icon%28%7B%0A%20%20%20%20%20%20%20%20%20%20%20%20%20%20%20%20%20%20%20%20icon%3A%20%27info-sign%27%2C%0A%20%20%20%20%20%20%20%20%20%20%20%20%20%20%20%20%20%20%20%20iconColor%3A%20%27white%27%2C%0A%20%20%20%20%20%20%20%20%20%20%20%20%20%20%20%20%20%20%20%20markerColor%3A%20%27green%27%2C%0A%20%20%20%20%20%20%20%20%20%20%20%20%20%20%20%20%20%20%20%20prefix%3A%20%27glyphicon%27%2C%0A%20%20%20%20%20%20%20%20%20%20%20%20%20%20%20%20%20%20%20%20extraClasses%3A%20%27fa-rotate-0%27%0A%20%20%20%20%20%20%20%20%20%20%20%20%20%20%20%20%20%20%20%20%7D%29%3B%0A%20%20%20%20%20%20%20%20%20%20%20%20%20%20%20%20marker_876ad1be68ed48ac8248dfdc7e2dd2cc.setIcon%28icon_d56a5e5cd0044d3f81694631c3f723cb%29%3B%0A%20%20%20%20%20%20%20%20%20%20%20%20%0A%20%20%20%20%0A%20%20%20%20%20%20%20%20%20%20%20%20var%20popup_18d1d111f6244c98b33e735a480099d4%20%3D%20L.popup%28%7BmaxWidth%3A%20%27100%25%27%0A%20%20%20%20%20%20%20%20%20%20%20%20%0A%20%20%20%20%20%20%20%20%20%20%20%20%7D%29%3B%0A%0A%20%20%20%20%20%20%20%20%20%20%20%20%0A%20%20%20%20%20%20%20%20%20%20%20%20%20%20%20%20var%20html_4bfe5cc5480747e49ac905ba5e3b6b3b%20%3D%20%24%28%60%3Cdiv%20id%3D%22html_4bfe5cc5480747e49ac905ba5e3b6b3b%22%20style%3D%22width%3A%20100.0%25%3B%20height%3A%20100.0%25%3B%22%3EM-0002%20Guarder%C3%ADa%20Madres%20Imss%20G%20-%20II%20Cuauht%C3%A9moc%3A%20Villalong%C3%ADn%20117%2C%20Col.%20Cuahutemoc%2C%20Del.%20Cuauht%C3%A9moc%2C%20CP%206500%20Horario%3A%2006%3A30%20-%2021%3A30%20Tel%C3%A9fono%3A%20Lada%3A%2055%20Tel%3A%2056290200%2C%20ext%2C%2013860%2C%2013861%3C/div%3E%60%29%5B0%5D%3B%0A%20%20%20%20%20%20%20%20%20%20%20%20%20%20%20%20popup_18d1d111f6244c98b33e735a480099d4.setContent%28html_4bfe5cc5480747e49ac905ba5e3b6b3b%29%3B%0A%20%20%20%20%20%20%20%20%20%20%20%20%0A%0A%20%20%20%20%20%20%20%20%20%20%20%20marker_876ad1be68ed48ac8248dfdc7e2dd2cc.bindPopup%28popup_18d1d111f6244c98b33e735a480099d4%29%0A%20%20%20%20%20%20%20%20%20%20%20%20%3B%0A%0A%20%20%20%20%20%20%20%20%20%20%20%20%0A%20%20%20%20%20%20%20%20%0A%20%20%20%20%0A%20%20%20%20%20%20%20%20var%20marker_c0e55e26ae224221bbd5453be96dd053%20%3D%20L.marker%28%0A%20%20%20%20%20%20%20%20%20%20%20%20%5B19.42265935%2C%20-99.17471273963955%5D%2C%0A%20%20%20%20%20%20%20%20%20%20%20%20%7B%0A%20%20%20%20%20%20%20%20%20%20%20%20%20%20%20%20icon%3A%20new%20L.Icon.Default%28%29%2C%0A%20%20%20%20%20%20%20%20%20%20%20%20%20%20%20%20%7D%0A%20%20%20%20%20%20%20%20%20%20%20%20%29.addTo%28map_c616e3e373c6439baaa395e3d49f3549%29%3B%0A%20%20%20%20%20%20%20%20%0A%20%20%20%20%0A%20%20%20%20%20%20%20%20%20%20%20%20var%20popup_6ea6258eb1f94336bfd75dc6296cda52%20%3D%20L.popup%28%7BmaxWidth%3A%20%27100%25%27%0A%20%20%20%20%20%20%20%20%20%20%20%20%0A%20%20%20%20%20%20%20%20%20%20%20%20%7D%29%3B%0A%0A%20%20%20%20%20%20%20%20%20%20%20%20%0A%20%20%20%20%20%20%20%20%20%20%20%20%20%20%20%20var%20html_b12eae85c4ca4c1b87027f5cadb7fb81%20%3D%20%24%28%60%3Cdiv%20id%3D%22html_b12eae85c4ca4c1b87027f5cadb7fb81%22%20style%3D%22width%3A%20100.0%25%3B%20height%3A%20100.0%25%3B%22%3EEl%20punto%20de%20referencia%20es%3A%20Torre%20BBVA%20510%2C%20Cuauhtemoc%3C/div%3E%60%29%5B0%5D%3B%0A%20%20%20%20%20%20%20%20%20%20%20%20%20%20%20%20popup_6ea6258eb1f94336bfd75dc6296cda52.setContent%28html_b12eae85c4ca4c1b87027f5cadb7fb81%29%3B%0A%20%20%20%20%20%20%20%20%20%20%20%20%0A%0A%20%20%20%20%20%20%20%20%20%20%20%20marker_c0e55e26ae224221bbd5453be96dd053.bindPopup%28popup_6ea6258eb1f94336bfd75dc6296cda52%29%0A%20%20%20%20%20%20%20%20%20%20%20%20%3B%0A%0A%20%20%20%20%20%20%20%20%20%20%20%20%0A%20%20%20%20%20%20%20%20%0A%3C/script%3E onload=\"this.contentDocument.open();this.contentDocument.write(    decodeURIComponent(this.getAttribute('data-html')));this.contentDocument.close();\" allowfullscreen webkitallowfullscreen mozallowfullscreen></iframe></div></div>"
            ]
          },
          "metadata": {},
          "execution_count": 62
        }
      ]
    }
  ]
}